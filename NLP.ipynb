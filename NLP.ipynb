{
 "cells": [
  {
   "cell_type": "markdown",
   "id": "54f2b56d-3efd-483f-8a27-9957ef0078e7",
   "metadata": {},
   "source": [
    "# Load the library"
   ]
  },
  {
   "cell_type": "code",
   "execution_count": 1,
   "id": "1ccea005-0764-4385-891e-7a987b836926",
   "metadata": {},
   "outputs": [],
   "source": [
    "with open(\"miracle_in_the_andes.txt\", \"r\", encoding='UTF-8') as file:\n",
    "    book = file.read()"
   ]
  },
  {
   "cell_type": "markdown",
   "id": "e66eec13-c8b8-49ac-9bfd-038c17ea249f",
   "metadata": {},
   "source": [
    "# finding the list with word count using regex"
   ]
  },
  {
   "cell_type": "code",
   "execution_count": 2,
   "id": "6e0c9853-224f-4786-8e03-4b852a6820cb",
   "metadata": {},
   "outputs": [],
   "source": [
    "import re"
   ]
  },
  {
   "cell_type": "code",
   "execution_count": 3,
   "id": "d76821ff-42fb-4dc7-9811-9f597783e704",
   "metadata": {},
   "outputs": [],
   "source": [
    "pattern = re.compile(\"[a-zA-Z]+\")\n",
    "findings = re.findall(pattern, book.lower())"
   ]
  },
  {
   "cell_type": "code",
   "execution_count": 4,
   "id": "49cfd3f5-1225-4cd4-aa3e-a3d47e5d26a2",
   "metadata": {},
   "outputs": [],
   "source": [
    "word_count = {}\n",
    "for word in findings:\n",
    "    if word in word_count.keys():\n",
    "        word_count[word] = word_count[word] + 1\n",
    "    else:\n",
    "        word_count[word] = 1\n",
    "word_count_list = [(values, keys) for keys, values in word_count.items()]\n",
    "word_count_list.sort(reverse=True)"
   ]
  },
  {
   "cell_type": "code",
   "execution_count": 6,
   "id": "d249fbb8-e43a-4303-868b-43c37767ca51",
   "metadata": {},
   "outputs": [
    {
     "data": {
      "text/plain": [
       "[(5346, 'the'), (2795, 'and'), (2729, 'i'), (2400, 'to'), (2060, 'of')]"
      ]
     },
     "execution_count": 6,
     "metadata": {},
     "output_type": "execute_result"
    }
   ],
   "source": [
    "word_count_list[:5]"
   ]
  },
  {
   "cell_type": "markdown",
   "id": "6154dc5c-0bc0-4e2b-9735-9fa28bdba86b",
   "metadata": {},
   "source": [
    "# Using NLTK to remove the stopwords and count genuine words"
   ]
  },
  {
   "cell_type": "code",
   "execution_count": 7,
   "id": "f84af6a7-e32a-49ee-86cc-fde90a6cc89a",
   "metadata": {},
   "outputs": [],
   "source": [
    "import nltk"
   ]
  },
  {
   "cell_type": "code",
   "execution_count": 8,
   "id": "aeae9f26-512c-4e14-95f9-0bbf6de7f540",
   "metadata": {},
   "outputs": [],
   "source": [
    "from nltk.corpus import stopwords\n",
    "english_stopwords = stopwords.words(\"english\")"
   ]
  },
  {
   "cell_type": "code",
   "execution_count": 11,
   "id": "0b10af3d-46ee-4424-9369-15e5b1dfe224",
   "metadata": {},
   "outputs": [],
   "source": [
    "filtered_words = []\n",
    "for count, word in word_count_list:\n",
    "    if word not in english_stopwords:\n",
    "        filtered_words.append((word, count))  "
   ]
  },
  {
   "cell_type": "code",
   "execution_count": 13,
   "id": "5fc24fa2-c1cd-4509-a196-aff4ffc729db",
   "metadata": {},
   "outputs": [
    {
     "data": {
      "text/plain": [
       "[('would', 575), ('us', 519), ('said', 292), ('roberto', 284), ('could', 252)]"
      ]
     },
     "execution_count": 13,
     "metadata": {},
     "output_type": "execute_result"
    }
   ],
   "source": [
    "filtered_words[:5]"
   ]
  },
  {
   "cell_type": "markdown",
   "id": "aa44fbbf-a6c6-4069-82b9-dbe180d119cd",
   "metadata": {},
   "source": [
    "# Sentiment Analysis: Most positive and negative chapter?"
   ]
  },
  {
   "cell_type": "code",
   "execution_count": 14,
   "id": "9352d02c-9b6f-4e4e-83c8-5e9360324452",
   "metadata": {},
   "outputs": [],
   "source": [
    "from nltk.sentiment import SentimentIntensityAnalyzer"
   ]
  },
  {
   "cell_type": "code",
   "execution_count": 15,
   "id": "b826adf8-5cc2-4714-a14e-880546375e59",
   "metadata": {},
   "outputs": [],
   "source": [
    "analyzer = SentimentIntensityAnalyzer()"
   ]
  },
  {
   "cell_type": "code",
   "execution_count": 22,
   "id": "bf5216f5-f280-4a13-a5c7-ea86a12c2ed9",
   "metadata": {},
   "outputs": [
    {
     "data": {
      "text/plain": [
       "{'neg': 0.116, 'neu': 0.76, 'pos': 0.125, 'compound': 1.0}"
      ]
     },
     "execution_count": 22,
     "metadata": {},
     "output_type": "execute_result"
    }
   ],
   "source": [
    "analyzer.polarity_scores(book)"
   ]
  },
  {
   "cell_type": "markdown",
   "id": "17bea1aa-ad0e-4593-8627-b371ec5087d5",
   "metadata": {},
   "source": [
    "### Chapters sentiment analysis"
   ]
  },
  {
   "cell_type": "code",
   "execution_count": 36,
   "id": "ebc2a04d-d656-4358-b281-55095eb886ae",
   "metadata": {},
   "outputs": [],
   "source": [
    "pattern = re.compile(\"Chapter [0-9]+\")\n",
    "chapters = re.split(pattern, book)"
   ]
  },
  {
   "cell_type": "code",
   "execution_count": 37,
   "id": "58c4b28b-e118-4a63-94b8-728fce088974",
   "metadata": {},
   "outputs": [],
   "source": [
    "chapters = chapters[1:]"
   ]
  },
  {
   "cell_type": "code",
   "execution_count": 39,
   "id": "5aed784f-b21b-4376-81c5-445240463892",
   "metadata": {},
   "outputs": [
    {
     "name": "stdout",
     "output_type": "stream",
     "text": [
      "1 {'neg': 0.061, 'neu': 0.779, 'pos': 0.16, 'compound': 1.0}\n",
      "2 {'neg': 0.12, 'neu': 0.726, 'pos': 0.154, 'compound': 0.9991}\n",
      "3 {'neg': 0.145, 'neu': 0.751, 'pos': 0.105, 'compound': -0.9999}\n",
      "4 {'neg': 0.141, 'neu': 0.721, 'pos': 0.138, 'compound': -0.9963}\n",
      "5 {'neg': 0.118, 'neu': 0.742, 'pos': 0.141, 'compound': 0.9997}\n",
      "6 {'neg': 0.124, 'neu': 0.761, 'pos': 0.115, 'compound': -0.9979}\n",
      "7 {'neg': 0.136, 'neu': 0.761, 'pos': 0.103, 'compound': -0.9999}\n",
      "8 {'neg': 0.12, 'neu': 0.786, 'pos': 0.094, 'compound': -0.9998}\n",
      "9 {'neg': 0.097, 'neu': 0.824, 'pos': 0.079, 'compound': -0.9996}\n",
      "10 {'neg': 0.086, 'neu': 0.733, 'pos': 0.181, 'compound': 1.0}\n"
     ]
    }
   ],
   "source": [
    "for nr, chapter in enumerate(chapters):\n",
    "    scores = analyzer.polarity_scores(chapter)\n",
    "    print(nr + 1, scores)"
   ]
  }
 ],
 "metadata": {
  "kernelspec": {
   "display_name": "Python 3 (ipykernel)",
   "language": "python",
   "name": "python3"
  },
  "language_info": {
   "codemirror_mode": {
    "name": "ipython",
    "version": 3
   },
   "file_extension": ".py",
   "mimetype": "text/x-python",
   "name": "python",
   "nbconvert_exporter": "python",
   "pygments_lexer": "ipython3",
   "version": "3.10.9"
  }
 },
 "nbformat": 4,
 "nbformat_minor": 5
}
